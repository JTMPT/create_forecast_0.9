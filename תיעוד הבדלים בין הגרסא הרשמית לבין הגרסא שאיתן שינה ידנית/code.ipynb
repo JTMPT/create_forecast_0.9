{
 "cells": [
  {
   "cell_type": "code",
   "execution_count": null,
   "metadata": {},
   "outputs": [],
   "source": [
    "import os\n",
    "import sys\n",
    "import pandas as pd"
   ]
  },
  {
   "cell_type": "code",
   "execution_count": null,
   "metadata": {},
   "outputs": [],
   "source": [
    "from global_functions import up_load_shp, make_point, add_geo_info_shp,add_geo_info_gdb"
   ]
  },
  {
   "cell_type": "code",
   "execution_count": null,
   "metadata": {
    "vscode": {
     "languageId": "ini"
    }
   },
   "outputs": [],
   "source": [
    "# Load the two CSV files\n",
    "csv_file_1 = pd.read_csv('puma2040.csv')  # החלף בשם הקובץ הראשון\n",
    "csv_file_2 = pd.read_csv('puma2020 2.csv')  # החלף בשם הקובץ השני\n",
    "\n",
    "# Merge the two dataframes on the common identifier (e.g., 'טאז')\n",
    "# Add suffixes to distinguish columns from each file\n",
    "merged_df = pd.merge(csv_file_1, csv_file_2, on='TAZ', suffixes=('_2040', '_2020'))\n"
   ]
  },
  {
   "cell_type": "code",
   "execution_count": null,
   "metadata": {},
   "outputs": [],
   "source": []
  }
 ],
 "metadata": {
  "kernelspec": {
   "display_name": "base",
   "language": "python",
   "name": "python3"
  },
  "language_info": {
   "codemirror_mode": {
    "name": "ipython",
    "version": 3
   },
   "file_extension": ".py",
   "mimetype": "text/x-python",
   "name": "python",
   "nbconvert_exporter": "python",
   "pygments_lexer": "ipython3",
   "version": "3.11.5"
  }
 },
 "nbformat": 4,
 "nbformat_minor": 2
}
