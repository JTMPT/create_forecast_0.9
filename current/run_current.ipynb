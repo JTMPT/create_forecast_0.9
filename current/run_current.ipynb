{
 "cells": [
  {
   "cell_type": "code",
   "execution_count": 1,
   "metadata": {},
   "outputs": [],
   "source": [
    "import os\n",
    "import sys"
   ]
  },
  {
   "cell_type": "code",
   "execution_count": 2,
   "metadata": {},
   "outputs": [],
   "source": [
    "import os\n",
    "\n",
    "def delete_folder_contents(folder_path):\n",
    "    \"\"\"\n",
    "    מוחקת את תוכן התיקייה, ומשאירה רק את README.md אם הוא קיים.\n",
    "    \"\"\"\n",
    "    for filename in os.listdir(folder_path):\n",
    "        file_path = os.path.join(folder_path, filename)\n",
    "        \n",
    "        # אם מדובר בקובץ\n",
    "        if os.path.isfile(file_path):\n",
    "            # אם הקובץ הוא README.md, מתעלמים ממנו\n",
    "            if filename == \"README.md\":\n",
    "                continue\n",
    "            # מוחקים את הקובץ\n",
    "            os.remove(file_path)\n",
    "        \n",
    "        # אם מדובר בתיקייה\n",
    "        elif os.path.isdir(file_path):\n",
    "            # ניקוי תוכן התיקייה\n",
    "            delete_folder_contents(file_path)\n",
    "            # אם התיקייה ריקה אחרי הניקוי, מוחקים אותה\n",
    "            if not os.listdir(file_path):\n",
    "                os.rmdir(file_path)\n",
    "\n",
    "# נתיב לתיקייה הראשית\n",
    "delete_folder_contents('./Intermediates')\n",
    "delete_folder_contents('./Monitoring')\n"
   ]
  },
  {
   "cell_type": "code",
   "execution_count": 7,
   "metadata": {},
   "outputs": [],
   "source": [
    "cwd = os.getcwd()\n",
    "\n",
    "create_forecast_basic_folder_path = os.path.dirname(cwd)\n",
    "\n",
    "arab_and_palestinian_directory = r'{}\\arab_and_palestinian'.format(create_forecast_basic_folder_path)\n",
    "\n",
    "sys.path.append(arab_and_palestinian_directory)\n",
    "\n",
    "import run_current_from_basic\n",
    "import run_arab_and_palestinian"
   ]
  },
  {
   "cell_type": "code",
   "execution_count": null,
   "metadata": {},
   "outputs": [],
   "source": [
    "run_current_from_basic.run_notebook(r'./fix_cbs_data_230717.ipynb')\n",
    "run_current_from_basic.run_notebook(r'./from_sa_cbs_to_ta_jtmt.ipynb')\n",
    "run_current_from_basic.run_notebook(r'./create_gov_student_num_by_muni.ipynb')\n",
    "run_current_from_basic.run_notebook(r'./prepare_students.ipynb')"
   ]
  },
  {
   "cell_type": "code",
   "execution_count": 9,
   "metadata": {},
   "outputs": [],
   "source": [
    "os.chdir(arab_and_palestinian_directory)\n",
    "\n",
    "run_arab_and_palestinian.run_notebook(r'{}\\run_arab_and_palestinian.ipynb'.format(arab_and_palestinian_directory))"
   ]
  },
  {
   "cell_type": "code",
   "execution_count": 10,
   "metadata": {},
   "outputs": [],
   "source": [
    "os.chdir(cwd)\n",
    "\n",
    "run_current_from_basic.run_notebook(r'./emp_current_year.ipynb') \n",
    "run_current_from_basic.run_notebook(r'./add_geo_info_and_export.ipynb') \n",
    "run_current_from_basic.run_notebook(r'./Determining_type_of_age_distribution_230719.ipynb') "
   ]
  }
 ],
 "metadata": {
  "kernelspec": {
   "display_name": "creat_forecast_ad_hoc_env",
   "language": "python",
   "name": "python3"
  },
  "language_info": {
   "codemirror_mode": {
    "name": "ipython",
    "version": 3
   },
   "file_extension": ".py",
   "mimetype": "text/x-python",
   "name": "python",
   "nbconvert_exporter": "python",
   "pygments_lexer": "ipython3",
   "version": "3.11.5"
  }
 },
 "nbformat": 4,
 "nbformat_minor": 2
}
