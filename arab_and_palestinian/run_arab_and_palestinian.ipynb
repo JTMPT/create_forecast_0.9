{
 "cells": [
  {
   "cell_type": "code",
   "execution_count": 1,
   "metadata": {},
   "outputs": [],
   "source": [
    "import run_arab_and_palestinian"
   ]
  },
  {
   "cell_type": "code",
   "execution_count": 2,
   "metadata": {},
   "outputs": [],
   "source": [
    "import os\n",
    "\n",
    "def delete_folder_contents(folder_path):\n",
    "    \"\"\"\n",
    "    מוחקת את תוכן התיקייה, ומשאירה רק את README.md אם הוא קיים.\n",
    "    \"\"\"\n",
    "    for filename in os.listdir(folder_path):\n",
    "        file_path = os.path.join(folder_path, filename)\n",
    "        \n",
    "        # אם מדובר בקובץ\n",
    "        if os.path.isfile(file_path):\n",
    "            # אם הקובץ הוא README.md, מתעלמים ממנו\n",
    "            if filename == \"README.md\":\n",
    "                continue\n",
    "            # מוחקים את הקובץ\n",
    "            os.remove(file_path)\n",
    "        \n",
    "        # אם מדובר בתיקייה\n",
    "        elif os.path.isdir(file_path):\n",
    "            # ניקוי תוכן התיקייה\n",
    "            delete_folder_contents(file_path)\n",
    "            # אם התיקייה ריקה אחרי הניקוי, מוחקים אותה\n",
    "            if not os.listdir(file_path):\n",
    "                os.rmdir(file_path)\n",
    "\n",
    "# נתיב לתיקייה הראשית\n",
    "delete_folder_contents('./Intermediates')"
   ]
  },
  {
   "cell_type": "code",
   "execution_count": null,
   "metadata": {},
   "outputs": [],
   "source": [
    "run_arab_and_palestinian.run_notebook(r'./palestinian_from_demo_230622.ipynb')\n",
    "run_arab_and_palestinian.run_notebook(r'./arab_growth_till_2050_from_demo_230618.ipynb')\n",
    "run_arab_and_palestinian.run_notebook(r'./230709_arab_growth_vs_kibolt.ipynb')"
   ]
  }
 ],
 "metadata": {
  "kernelspec": {
   "display_name": "creat_forecast_ad_hoc_env",
   "language": "python",
   "name": "python3"
  },
  "language_info": {
   "codemirror_mode": {
    "name": "ipython",
    "version": 3
   },
   "file_extension": ".py",
   "mimetype": "text/x-python",
   "name": "python",
   "nbconvert_exporter": "python",
   "pygments_lexer": "ipython3",
   "version": "3.11.5"
  }
 },
 "nbformat": 4,
 "nbformat_minor": 2
}
