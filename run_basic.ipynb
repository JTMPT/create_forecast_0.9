{
  "cells": [
    {
      "cell_type": "code",
      "execution_count": 1,
      "metadata": {},
      "outputs": [],
      "source": [
        "import os\n",
        "import sys"
      ]
    },
    {
      "cell_type": "code",
      "execution_count": 2,
      "metadata": {},
      "outputs": [],
      "source": [
        "# מאחסן את הנתיב הנוכחי: cwd\n",
        "cwd = os.getcwd()\n",
        "\n",
        "# מגדיר נתיב לתיקית current\n",
        "current_directory = r'{}\\current'.format(cwd)\n",
        "\n",
        "# מגדיר נתיב לתיקית future\n",
        "future_directory = r'{}\\future'.format(cwd)"
      ]
    },
    {
      "cell_type": "code",
      "execution_count": 3,
      "metadata": {},
      "outputs": [],
      "source": [
        "# מוסיף את הנתיבים של התיקיות השונות, כך שניתן לייבא מודולים מהתיקיות הללו\n",
        "sys.path.append(current_directory)\n",
        "sys.path.append(future_directory)"
      ]
    },
    {
      "cell_type": "code",
      "execution_count": 4,
      "metadata": {},
      "outputs": [],
      "source": [
        "# מייבא את המודולים המכילים את הפונקציות להרצת המחברות\n",
        "import run_current_from_basic\n",
        "import run_future_from_basic"
      ]
    },
    {
      "cell_type": "code",
      "execution_count": null,
      "metadata": {},
      "outputs": [],
      "source": [
        "# מחליף את הנתיב הנוכחי לתיקיה current\n",
        "os.chdir(current_directory)\n",
        "\n",
        "# מריץ את המחברת באמצעות הפונקציה run_notebook\n",
        "run_current_from_basic.run_notebook(r'{}\\current\\run_current.ipynb'.format(cwd))  # Call the function from the imported module\n",
        "\n",
        "# מחליף את הנתיב הנוכחי לתיקיה future\n",
        "os.chdir(future_directory)\n",
        "\n",
        "# מריץ את המחברת באמצעות הפונקציה run_notebook\n",
        "run_future_from_basic.run_notebook(r'{}\\future\\run_future.ipynb'.format(cwd))  # Call the function from the imported module"
      ]
    }
  ],
  "metadata": {
    "kernelspec": {
      "display_name": ".venv",
      "language": "python",
      "name": "python3"
    },
    "language_info": {
      "codemirror_mode": {
        "name": "ipython",
        "version": 3
      },
      "file_extension": ".py",
      "mimetype": "text/x-python",
      "name": "python",
      "nbconvert_exporter": "python",
      "pygments_lexer": "ipython3",
      "version": "3.11.4"
    }
  },
  "nbformat": 4,
  "nbformat_minor": 4
}
